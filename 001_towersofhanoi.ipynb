{
  "nbformat": 4,
  "nbformat_minor": 0,
  "metadata": {
    "colab": {
      "name": "001_towersofhanoi.ipynb",
      "version": "0.3.2",
      "provenance": [],
      "include_colab_link": true
    },
    "kernelspec": {
      "display_name": "Python 3",
      "language": "python",
      "name": "python3"
    }
  },
  "cells": [
    {
      "cell_type": "markdown",
      "metadata": {
        "id": "view-in-github",
        "colab_type": "text"
      },
      "source": [
        "<a href=\"https://colab.research.google.com/github/russenoire/100daysofalgorithms/blob/master/001_towersofhanoi.ipynb\" target=\"_parent\"><img src=\"https://colab.research.google.com/assets/colab-badge.svg\" alt=\"Open In Colab\"/></a>"
      ]
    },
    {
      "metadata": {
        "id": "0qZxeiArfwpQ",
        "colab_type": "text"
      },
      "cell_type": "markdown",
      "source": [
        "# /pseudocode\n",
        "```\n",
        "pegs:\n",
        "source = \"A\"\n",
        "dest = \"B\"\n",
        "spare = \"C\"\n",
        "disc = 4\n",
        "\n",
        "def solve_hanoi(discs, source, dest, spare):\n",
        "    if disc is 1:\n",
        "        move disc from source to dest\n",
        "    else:\n",
        "        solve_hanoi(disc - 1, source, dest, spare)\n",
        "        move disc from source to dest\n",
        "        solve_hanoi(disc - 1, spare, dest, source)\n",
        "```"
      ]
    },
    {
      "metadata": {
        "id": "N7r2vSN7fwpW",
        "colab_type": "text"
      },
      "cell_type": "markdown",
      "source": [
        "# /algorithm"
      ]
    },
    {
      "metadata": {
        "id": "ldBHdqg0fwpa",
        "colab_type": "code",
        "colab": {}
      },
      "cell_type": "code",
      "source": [
        "def solve_hanoi(disc, source=\"left\", spare=\"right\", dest=\"center\"):\n",
        "    if disc == 1:\n",
        "        print(\"move disc %d from %s to %s\" %(disc, source, dest))\n",
        "    else:\n",
        "        solve_hanoi(disc - 1, source, dest, spare)\n",
        "        print(\"move disc %d from %s to %s\" %(disc, source, dest))\n",
        "        solve_hanoi(disc - 1, spare, source, dest)"
      ],
      "execution_count": 0,
      "outputs": []
    },
    {
      "metadata": {
        "id": "cD3bbWK9fwqZ",
        "colab_type": "text"
      },
      "cell_type": "markdown",
      "source": [
        "# /examples"
      ]
    },
    {
      "metadata": {
        "id": "1EqROLxUfwqc",
        "colab_type": "code",
        "colab": {
          "base_uri": "https://localhost:8080/",
          "height": 136
        },
        "outputId": "d39bf18a-c688-4122-f04e-9bcfb709d7bf"
      },
      "cell_type": "code",
      "source": [
        "solve_hanoi(3)"
      ],
      "execution_count": 3,
      "outputs": [
        {
          "output_type": "stream",
          "text": [
            "move disc 1 from left to center\n",
            "move disc 2 from left to right\n",
            "move disc 1 from center to right\n",
            "move disc 3 from left to center\n",
            "move disc 1 from right to left\n",
            "move disc 2 from right to center\n",
            "move disc 1 from left to center\n"
          ],
          "name": "stdout"
        }
      ]
    },
    {
      "metadata": {
        "id": "K4_EqA38fwsM",
        "colab_type": "code",
        "colab": {
          "base_uri": "https://localhost:8080/",
          "height": 34
        },
        "outputId": "fd86f77a-6ebc-4986-928b-8fd41657f338"
      },
      "cell_type": "code",
      "source": [
        "solve_hanoi(1)"
      ],
      "execution_count": 4,
      "outputs": [
        {
          "output_type": "stream",
          "text": [
            "move disc 1 from left to center\n"
          ],
          "name": "stdout"
        }
      ]
    },
    {
      "metadata": {
        "id": "hbEHpdjAfwsh",
        "colab_type": "code",
        "colab": {
          "base_uri": "https://localhost:8080/",
          "height": 272
        },
        "outputId": "86cf296c-462b-4cfc-bb09-11db5ffccfbf"
      },
      "cell_type": "code",
      "source": [
        "solve_hanoi(4)"
      ],
      "execution_count": 6,
      "outputs": [
        {
          "output_type": "stream",
          "text": [
            "move disc 1 from left to right\n",
            "move disc 2 from left to center\n",
            "move disc 1 from right to center\n",
            "move disc 3 from left to right\n",
            "move disc 1 from center to left\n",
            "move disc 2 from center to right\n",
            "move disc 1 from left to right\n",
            "move disc 4 from left to center\n",
            "move disc 1 from right to center\n",
            "move disc 2 from right to left\n",
            "move disc 1 from center to left\n",
            "move disc 3 from right to center\n",
            "move disc 1 from left to right\n",
            "move disc 2 from left to center\n",
            "move disc 1 from right to center\n"
          ],
          "name": "stdout"
        }
      ]
    },
    {
      "metadata": {
        "id": "-7gCNPesfwts",
        "colab_type": "code",
        "colab": {}
      },
      "cell_type": "code",
      "source": [
        ""
      ],
      "execution_count": 0,
      "outputs": []
    }
  ]
}